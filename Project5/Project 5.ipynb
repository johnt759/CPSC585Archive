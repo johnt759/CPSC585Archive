{
 "cells": [
  {
   "cell_type": "markdown",
   "id": "7ef2c4fc",
   "metadata": {},
   "source": [
    "# Spring 2022\n",
    "# CPSC 585 Project 5\n",
    "## Raymond Carpio\n",
    "## Yu Pan\n",
    "## Sijie Shang\n",
    "## John Tu"
   ]
  },
  {
   "cell_type": "markdown",
   "id": "ab90284f",
   "metadata": {},
   "source": [
    "# 1. Begin with the Keras example Collaborative Filtering for Movie Recommendations and verify that you can obtain the sample examples.\n",
    "## This example uses the Keras Embedding layer type. While it may not be clear from the documentation, this layer type can be used to build an autoencoder. For example, to build the basic autoencoder of Figure 2.7 on p. 73 of the textbook, you could stack together an Embedding layer with input_dim 5 and output_dim 3 with another Embedding layer with input_dim 3 and output_dim 5.\n",
    "## While this could obviously be done instead using a single Dense hidden layer, the difference is that Embedding layers work well with sparse data (e.g. where users have not rated most movies in the dataset.)\n",
    "## As a result, the model corresponds roughly to the matrix factorization shown in Figure 2.13 on p. 84 of the textbook, using the dot product to compute the similarity of the user and movie vectors."
   ]
  },
  {
   "cell_type": "code",
   "execution_count": 1,
   "id": "16d416af",
   "metadata": {},
   "outputs": [],
   "source": [
    "import pandas as pd\n",
    "import numpy as np\n",
    "from zipfile import ZipFile\n",
    "import tensorflow as tf\n",
    "from tensorflow import keras\n",
    "from tensorflow.keras import layers\n",
    "from pathlib import Path\n",
    "import matplotlib.pyplot as plt"
   ]
  },
  {
   "cell_type": "code",
   "execution_count": 2,
   "id": "4cb2fbd8",
   "metadata": {},
   "outputs": [],
   "source": [
    "# Download the actual data from http://files.grouplens.org/datasets/movielens/ml-latest-small.zip\"\n",
    "# Use the ratings.csv file\n",
    "movielens_data_file_url = (\n",
    "    \"http://files.grouplens.org/datasets/movielens/ml-latest-small.zip\"\n",
    ")\n",
    "movielens_zipped_file = keras.utils.get_file(\n",
    "    \"ml-latest-small.zip\", movielens_data_file_url, extract=False\n",
    ")\n",
    "keras_datasets_path = Path(movielens_zipped_file).parents[0]\n",
    "movielens_dir = keras_datasets_path / \"ml-latest-small\"\n",
    "\n",
    "# Only extract the data the first time the script is run.\n",
    "if not movielens_dir.exists():\n",
    "    with ZipFile(movielens_zipped_file, \"r\") as zip:\n",
    "        # Extract files\n",
    "        print(\"Extracting all the files now...\")\n",
    "        zip.extractall(path=keras_datasets_path)\n",
    "        print(\"Done!\")\n",
    "\n",
    "ratings_file = movielens_dir / \"ratings.csv\"\n",
    "df = pd.read_csv(ratings_file)"
   ]
  },
  {
   "cell_type": "code",
   "execution_count": 3,
   "id": "552f8c25",
   "metadata": {},
   "outputs": [
    {
     "name": "stdout",
     "output_type": "stream",
     "text": [
      "Number of users: 610, Number of Movies: 9724, Min rating: 0.5, Max rating: 5.0\n"
     ]
    }
   ],
   "source": [
    "user_ids = df[\"userId\"].unique().tolist()\n",
    "user2user_encoded = {x: i for i, x in enumerate(user_ids)}\n",
    "userencoded2user = {i: x for i, x in enumerate(user_ids)}\n",
    "movie_ids = df[\"movieId\"].unique().tolist()\n",
    "movie2movie_encoded = {x: i for i, x in enumerate(movie_ids)}\n",
    "movie_encoded2movie = {i: x for i, x in enumerate(movie_ids)}\n",
    "df[\"user\"] = df[\"userId\"].map(user2user_encoded)\n",
    "df[\"movie\"] = df[\"movieId\"].map(movie2movie_encoded)\n",
    "\n",
    "num_users = len(user2user_encoded)\n",
    "num_movies = len(movie_encoded2movie)\n",
    "df[\"rating\"] = df[\"rating\"].values.astype(np.float32)\n",
    "# min and max ratings will be used to normalize the ratings later\n",
    "min_rating = min(df[\"rating\"])\n",
    "max_rating = max(df[\"rating\"])\n",
    "\n",
    "print(\n",
    "    \"Number of users: {}, Number of Movies: {}, Min rating: {}, Max rating: {}\".format(\n",
    "        num_users, num_movies, min_rating, max_rating\n",
    "    )\n",
    ")"
   ]
  },
  {
   "cell_type": "code",
   "execution_count": 4,
   "id": "0e14fbe0",
   "metadata": {},
   "outputs": [],
   "source": [
    "df = df.sample(frac=1, random_state=42)\n",
    "x = df[[\"user\", \"movie\"]].values\n",
    "# Normalize the targets between 0 and 1. Makes it easy to train.\n",
    "y = df[\"rating\"].apply(lambda x: (x - min_rating) / (max_rating - min_rating)).values\n",
    "# Assuming training on 90% of the data and validating on 10%.\n",
    "train_indices = int(0.9 * df.shape[0])\n",
    "x_train, x_val, y_train, y_val = (\n",
    "    x[:train_indices],\n",
    "    x[train_indices:],\n",
    "    y[:train_indices],\n",
    "    y[train_indices:],\n",
    ")"
   ]
  },
  {
   "cell_type": "code",
   "execution_count": 5,
   "id": "3b9350c9",
   "metadata": {},
   "outputs": [
    {
     "name": "stderr",
     "output_type": "stream",
     "text": [
      "C:\\ProgramData\\Anaconda3\\lib\\site-packages\\keras\\optimizer_v2\\adam.py:105: UserWarning: The `lr` argument is deprecated, use `learning_rate` instead.\n",
      "  super(Adam, self).__init__(name, **kwargs)\n"
     ]
    }
   ],
   "source": [
    "EMBEDDING_SIZE = 50\n",
    "\n",
    "\n",
    "class RecommenderNet(keras.Model):\n",
    "    def __init__(self, num_users, num_movies, embedding_size, **kwargs):\n",
    "        super(RecommenderNet, self).__init__(**kwargs)\n",
    "        self.num_users = num_users\n",
    "        self.num_movies = num_movies\n",
    "        self.embedding_size = embedding_size\n",
    "        self.user_embedding = layers.Embedding(\n",
    "            num_users,\n",
    "            embedding_size,\n",
    "            embeddings_initializer=\"he_normal\",\n",
    "            embeddings_regularizer=keras.regularizers.l2(1e-6),\n",
    "        )\n",
    "        self.user_bias = layers.Embedding(num_users, 1)\n",
    "        self.movie_embedding = layers.Embedding(\n",
    "            num_movies,\n",
    "            embedding_size,\n",
    "            embeddings_initializer=\"he_normal\",\n",
    "            embeddings_regularizer=keras.regularizers.l2(1e-6),\n",
    "        )\n",
    "        self.movie_bias = layers.Embedding(num_movies, 1)\n",
    "\n",
    "    def call(self, inputs):\n",
    "        user_vector = self.user_embedding(inputs[:, 0])\n",
    "        user_bias = self.user_bias(inputs[:, 0])\n",
    "        movie_vector = self.movie_embedding(inputs[:, 1])\n",
    "        movie_bias = self.movie_bias(inputs[:, 1])\n",
    "        dot_user_movie = tf.tensordot(user_vector, movie_vector, 2)\n",
    "        # Add all the components (including bias)\n",
    "        x = dot_user_movie + user_bias + movie_bias\n",
    "        # The sigmoid activation forces the rating to between 0 and 1\n",
    "        return tf.nn.sigmoid(x)\n",
    "\n",
    "\n",
    "model = RecommenderNet(num_users, num_movies, EMBEDDING_SIZE)\n",
    "model.compile(\n",
    "    loss=tf.keras.losses.BinaryCrossentropy(), optimizer=keras.optimizers.Adam(lr=0.001)\n",
    ")"
   ]
  },
  {
   "cell_type": "code",
   "execution_count": 6,
   "id": "f24f31ee",
   "metadata": {},
   "outputs": [
    {
     "name": "stdout",
     "output_type": "stream",
     "text": [
      "Epoch 1/5\n",
      "1418/1418 [==============================] - 10s 7ms/step - loss: 0.6366 - val_loss: 0.6214\n",
      "Epoch 2/5\n",
      "1418/1418 [==============================] - 9s 6ms/step - loss: 0.6133 - val_loss: 0.6181\n",
      "Epoch 3/5\n",
      "1418/1418 [==============================] - 9s 6ms/step - loss: 0.6083 - val_loss: 0.6143\n",
      "Epoch 4/5\n",
      "1418/1418 [==============================] - 9s 6ms/step - loss: 0.6068 - val_loss: 0.6145\n",
      "Epoch 5/5\n",
      "1418/1418 [==============================] - 10s 7ms/step - loss: 0.6064 - val_loss: 0.6132\n"
     ]
    }
   ],
   "source": [
    "history = model.fit(\n",
    "    x=x_train,\n",
    "    y=y_train,\n",
    "    batch_size=64,\n",
    "    epochs=5,\n",
    "    verbose=1,\n",
    "    validation_data=(x_val, y_val),\n",
    ")"
   ]
  },
  {
   "cell_type": "code",
   "execution_count": 7,
   "id": "4e30e62a",
   "metadata": {},
   "outputs": [
    {
     "data": {
      "image/png": "[encoded data removed]",
      "text/plain": [
       "<Figure size 432x288 with 1 Axes>"
      ]
     },
     "metadata": {
      "needs_background": "light"
     },
     "output_type": "display_data"
    }
   ],
   "source": [
    "plt.plot(history.history[\"loss\"])\n",
    "plt.plot(history.history[\"val_loss\"])\n",
    "plt.title(\"model loss\")\n",
    "plt.ylabel(\"loss\")\n",
    "plt.xlabel(\"epoch\")\n",
    "plt.legend([\"train\", \"test\"], loc=\"upper left\")\n",
    "plt.show()"
   ]
  },
  {
   "cell_type": "code",
   "execution_count": 8,
   "id": "4e466239",
   "metadata": {},
   "outputs": [
    {
     "name": "stdout",
     "output_type": "stream",
     "text": [
      "Showing recommendations for user: 356\n",
      "====================================\n",
      "Movies with high ratings from user\n",
      "--------------------------------\n",
      "Casablanca (1942) : Drama|Romance\n",
      "Empire Records (1995) : Comedy|Drama\n",
      "Sandlot, The (1993) : Children|Comedy|Drama\n",
      "Hours, The (2002) : Drama|Romance\n",
      "Dark Knight, The (2008) : Action|Crime|Drama|IMAX\n",
      "--------------------------------\n",
      "Top 10 movie recommendations\n",
      "--------------------------------\n",
      "Rear Window (1954) : Mystery|Thriller\n",
      "Goodfellas (1990) : Crime|Drama\n",
      "Cool Hand Luke (1967) : Drama\n",
      "Omen, The (1976) : Horror|Mystery|Thriller\n",
      "Star Trek: First Contact (1996) : Action|Adventure|Sci-Fi|Thriller\n",
      "Shine (1996) : Drama|Romance\n",
      "American History X (1998) : Crime|Drama\n",
      "Boondock Saints, The (2000) : Action|Crime|Drama|Thriller\n",
      "Outlaw Josey Wales, The (1976) : Action|Adventure|Drama|Thriller|Western\n",
      "Strada, La (1954) : Drama\n"
     ]
    }
   ],
   "source": [
    "movie_df = pd.read_csv(movielens_dir / \"movies.csv\")\n",
    "\n",
    "# Let us get a user and see the top recommendations.\n",
    "user_id = df.userId.sample(1).iloc[0]\n",
    "movies_watched_by_user = df[df.userId == user_id]\n",
    "#print(movies_watched_by_user)\n",
    "\n",
    "def recommender_1(movies_watched_by_user):\n",
    "    movies_not_watched = movie_df[\n",
    "        ~movie_df[\"movieId\"].isin(movies_watched_by_user.movieId.values)\n",
    "    ][\"movieId\"]\n",
    "    movies_not_watched = list(\n",
    "        set(movies_not_watched).intersection(set(movie2movie_encoded.keys()))\n",
    "    )\n",
    "    movies_not_watched = [[movie2movie_encoded.get(x)] for x in movies_not_watched]\n",
    "\n",
    "    user_encoder = user2user_encoded.get(user_id)\n",
    "    user_movie_array = np.hstack(\n",
    "        ([[user_encoder]] * len(movies_not_watched), movies_not_watched)\n",
    "    )\n",
    "    ratings = model.predict(user_movie_array).flatten()\n",
    "    top_ratings_indices = ratings.argsort()[-10:][::-1]\n",
    "    recommended_movie_ids = [\n",
    "        movie_encoded2movie.get(movies_not_watched[x][0]) for x in top_ratings_indices\n",
    "    ]\n",
    "\n",
    "    print(\"Showing recommendations for user: {}\".format(user_id))\n",
    "    print(\"====\" * 9)\n",
    "    print(\"Movies with high ratings from user\")\n",
    "    print(\"----\" * 8)\n",
    "    top_movies_user = (\n",
    "        movies_watched_by_user.sort_values(by=\"rating\", ascending=False)\n",
    "        .head(5)\n",
    "        .movieId.values\n",
    "    )\n",
    "    movie_df_rows = movie_df[movie_df[\"movieId\"].isin(top_movies_user)]\n",
    "    for row in movie_df_rows.itertuples():\n",
    "        print(row.title, \":\", row.genres)\n",
    "\n",
    "    print(\"----\" * 8)\n",
    "    print(\"Top 10 movie recommendations\")\n",
    "    print(\"----\" * 8)\n",
    "    recommended_movies = movie_df[movie_df[\"movieId\"].isin(recommended_movie_ids)]\n",
    "    for row in recommended_movies.itertuples():\n",
    "        print(row.title, \":\", row.genres)\n",
    "recommender_1(movies_watched_by_user)"
   ]
  },
  {
   "cell_type": "markdown",
   "id": "a139cd98",
   "metadata": {},
   "source": [
    "# 2. Construct a feature vector for one or move members of your team, choosing and rating several movies that they have seen. (Do not rate all movies that they have seen — leave room for recommendations.)\n",
    "# What other movies does the network recommend? How many of the recommended movies have they actually seen? Were the recommendations accurate?"
   ]
  },
  {
   "cell_type": "code",
   "execution_count": 9,
   "id": "f1ad29c7",
   "metadata": {},
   "outputs": [
    {
     "name": "stdout",
     "output_type": "stream",
     "text": [
      "Showing recommendations for user: 356\n",
      "====================================\n",
      "Movies with high ratings from user\n",
      "--------------------------------\n",
      "Toy Story (1995) : Adventure|Animation|Children|Comedy|Fantasy\n",
      "Toy Story 2 (1999) : Adventure|Animation|Children|Comedy|Fantasy\n",
      "Harry Potter and the Prisoner of Azkaban (2004) : Adventure|Fantasy|IMAX\n",
      "Pride & Prejudice (2005) : Drama|Romance\n",
      "Avengers: Infinity War - Part I (2018) : Action|Adventure|Sci-Fi\n",
      "--------------------------------\n",
      "Top 10 movie recommendations\n",
      "--------------------------------\n",
      "Shawshank Redemption, The (1994) : Crime|Drama\n",
      "Forrest Gump (1994) : Comedy|Drama|Romance|War\n",
      "Dr. Strangelove or: How I Learned to Stop Worrying and Love the Bomb (1964) : Comedy|War\n",
      "Matrix, The (1999) : Action|Sci-Fi|Thriller\n",
      "Fight Club (1999) : Action|Crime|Drama|Thriller\n",
      "Boondock Saints, The (2000) : Action|Crime|Drama|Thriller\n",
      "Lord of the Rings: The Fellowship of the Ring, The (2001) : Adventure|Fantasy\n",
      "Lord of the Rings: The Return of the King, The (2003) : Action|Adventure|Drama|Fantasy\n",
      "There Will Be Blood (2007) : Drama|Western\n",
      "Dark Knight, The (2008) : Action|Crime|Drama|IMAX\n"
     ]
    }
   ],
   "source": [
    "rated_movies = {'userId': [999,999,999,999,999,999,999,999,999,999], 'movieId': [1,3114,8368,40815,40629,176101,135536,129779,122924,122912], 'rating': [4,4,4,4,5,4,3,3.5,4,5]}\n",
    "movies_watched_by_user = pd.DataFrame(rated_movies)\n",
    "recommender_1(movies_watched_by_user)"
   ]
  },
  {
   "cell_type": "markdown",
   "id": "5a29cdc8",
   "metadata": {},
   "source": [
    "## A: The movies that the system recommends based on watch history are listed above in the Top 10 movie recommendations list. Based on the genres listed from the recommendations list, the only genres that are relevant based on user's watch history are Comedy, Action, and Adventure. Thus, the recommendations are not somewhat accurate."
   ]
  },
  {
   "cell_type": "markdown",
   "id": "90263320",
   "metadata": {},
   "source": [
    "# 3. While the matrix factorization model described in the textbook relies on only a single dense hidden layer (or equivalently, two hidden embedding layers), it should be possible to achieve better results with a deeper network.\n",
    "# Replace the dot product with one or more dense layers, allowing the network to learn relationships between the user and movie vectors. Compare the performance of the network on the training and validation sets."
   ]
  },
  {
   "cell_type": "code",
   "execution_count": 10,
   "id": "8b06b83a",
   "metadata": {},
   "outputs": [
    {
     "name": "stdout",
     "output_type": "stream",
     "text": [
      "Model: \"sequential\"\n",
      "_________________________________________________________________\n",
      " Layer (type)                Output Shape              Param #   \n",
      "=================================================================\n",
      " HiddenLayer (Dense)         (None, 200)               600       \n",
      "                                                                 \n",
      " flatten (Flatten)           (None, 200)               0         \n",
      "                                                                 \n",
      " OutputLayer (Dense)         (None, 1)                 201       \n",
      "                                                                 \n",
      "=================================================================\n",
      "Total params: 801\n",
      "Trainable params: 801\n",
      "Non-trainable params: 0\n",
      "_________________________________________________________________\n"
     ]
    }
   ],
   "source": [
    "# Instead of modifying the existing model from Problem 1, build a new model with a Dense hidden layer.\n",
    "model2 = tf.keras.Sequential()\n",
    "model2.add(tf.keras.Input(shape=(2,)))\n",
    "model2.add(tf.keras.layers.Dense(200, activation=\"relu\", name=\"HiddenLayer\"))\n",
    "model2.add(tf.keras.layers.Flatten())\n",
    "model2.add(tf.keras.layers.Dense(1, activation=\"sigmoid\", name=\"OutputLayer\"))\n",
    "\n",
    "model2.summary()\n",
    "model2.compile(loss=tf.keras.losses.BinaryCrossentropy(), optimizer=keras.optimizers.Adam(lr=0.001))"
   ]
  },
  {
   "cell_type": "code",
   "execution_count": 11,
   "id": "06c4a5ba",
   "metadata": {},
   "outputs": [
    {
     "name": "stdout",
     "output_type": "stream",
     "text": [
      "Epoch 1/5\n",
      "1418/1418 [==============================] - 2s 929us/step - loss: 1.4455 - val_loss: 1.7093\n",
      "Epoch 2/5\n",
      "1418/1418 [==============================] - 1s 1ms/step - loss: 1.1905 - val_loss: 1.0352\n",
      "Epoch 3/5\n",
      "1418/1418 [==============================] - 2s 2ms/step - loss: 1.2394 - val_loss: 0.7234\n",
      "Epoch 4/5\n",
      "1418/1418 [==============================] - 2s 1ms/step - loss: 1.1899 - val_loss: 0.6444\n",
      "Epoch 5/5\n",
      "1418/1418 [==============================] - 2s 1ms/step - loss: 1.1021 - val_loss: 1.1108\n"
     ]
    }
   ],
   "source": [
    "history = model2.fit(\n",
    "    x=x_train,\n",
    "    y=y_train,\n",
    "    batch_size=64,\n",
    "    epochs=5,\n",
    "    verbose=1,\n",
    "    validation_data=(x_val, y_val),\n",
    ")"
   ]
  },
  {
   "cell_type": "code",
   "execution_count": 12,
   "id": "f2e7ae56",
   "metadata": {},
   "outputs": [
    {
     "name": "stdout",
     "output_type": "stream",
     "text": [
      "Showing recommendations for user: 318\n",
      "====================================\n",
      "Movies with high ratings from user\n",
      "--------------------------------\n",
      "Marat/Sade (1966) : Drama|Musical\n",
      "Woman Under the Influence, A (1974) : Drama\n",
      "Fast Food Nation (2006) : Drama\n",
      "Django Unchained (2012) : Action|Drama|Western\n",
      "Interstellar (2014) : Sci-Fi|IMAX\n",
      "--------------------------------\n",
      "Top 10 movie recommendations\n",
      "--------------------------------\n",
      "Very Bad Things (1998) : Comedy|Crime\n",
      "Psycho (1998) : Crime|Horror|Thriller\n",
      "Romancing the Stone (1984) : Action|Adventure|Comedy|Romance\n",
      "Young Sherlock Holmes (1985) : Action|Adventure|Children|Fantasy|Mystery|Thriller\n",
      "Howard the Duck (1986) : Adventure|Comedy|Sci-Fi\n",
      "Texas Chainsaw Massacre, The (1974) : Horror\n",
      "Crocodile Dundee (1986) : Adventure|Comedy\n",
      "¡Three Amigos! (1986) : Comedy|Western\n",
      "20 Dates (1998) : Comedy|Romance\n",
      "SLC Punk! (1998) : Comedy|Drama\n"
     ]
    }
   ],
   "source": [
    "# Follow the same procedure from Problem 1, except try a different user id.\n",
    "user_id = df.userId.sample(1).iloc[0]\n",
    "movies_watched_by_user = df[df.userId == user_id]\n",
    "#print(movies_watched_by_user)\n",
    "\n",
    "def recommender_2(movies_watched_by_user):\n",
    "    movies_not_watched = movie_df[\n",
    "        ~movie_df[\"movieId\"].isin(movies_watched_by_user.movieId.values)\n",
    "    ][\"movieId\"]\n",
    "    movies_not_watched = list(\n",
    "        set(movies_not_watched).intersection(set(movie2movie_encoded.keys()))\n",
    "    )\n",
    "    movies_not_watched = [[movie2movie_encoded.get(x)] for x in movies_not_watched]\n",
    "\n",
    "    user_encoder = user2user_encoded.get(user_id)\n",
    "    user_movie_array = np.hstack(\n",
    "        ([[user_encoder]] * len(movies_not_watched), movies_not_watched)\n",
    "    )\n",
    "    ratings = model2.predict(user_movie_array).flatten()\n",
    "    top_ratings_indices = ratings.argsort()[-10:][::-1]\n",
    "    recommended_movie_ids = [\n",
    "        movie_encoded2movie.get(movies_not_watched[x][0]) for x in top_ratings_indices\n",
    "    ]\n",
    "\n",
    "    print(\"Showing recommendations for user: {}\".format(user_id))\n",
    "    print(\"====\" * 9)\n",
    "    print(\"Movies with high ratings from user\")\n",
    "    print(\"----\" * 8)\n",
    "    top_movies_user = (\n",
    "        movies_watched_by_user.sort_values(by=\"rating\", ascending=False)\n",
    "        .head(5)\n",
    "        .movieId.values\n",
    "    )\n",
    "    movie_df_rows = movie_df[movie_df[\"movieId\"].isin(top_movies_user)]\n",
    "    for row in movie_df_rows.itertuples():\n",
    "        print(row.title, \":\", row.genres)\n",
    "\n",
    "    print(\"----\" * 8)\n",
    "    print(\"Top 10 movie recommendations\")\n",
    "    print(\"----\" * 8)\n",
    "    recommended_movies = movie_df[movie_df[\"movieId\"].isin(recommended_movie_ids)]\n",
    "    for row in recommended_movies.itertuples():\n",
    "        print(row.title, \":\", row.genres)\n",
    "recommender_2(movies_watched_by_user)"
   ]
  },
  {
   "cell_type": "code",
   "execution_count": 13,
   "id": "049c85bf",
   "metadata": {},
   "outputs": [
    {
     "name": "stdout",
     "output_type": "stream",
     "text": [
      "Showing recommendations for user: 318\n",
      "====================================\n",
      "Movies with high ratings from user\n",
      "--------------------------------\n",
      "Toy Story (1995) : Adventure|Animation|Children|Comedy|Fantasy\n",
      "Toy Story 2 (1999) : Adventure|Animation|Children|Comedy|Fantasy\n",
      "Harry Potter and the Prisoner of Azkaban (2004) : Adventure|Fantasy|IMAX\n",
      "Pride & Prejudice (2005) : Drama|Romance\n",
      "Avengers: Infinity War - Part I (2018) : Action|Adventure|Sci-Fi\n",
      "--------------------------------\n",
      "Top 10 movie recommendations\n",
      "--------------------------------\n",
      "Thin Red Line, The (1998) : Action|Drama|War\n",
      "Howard the Duck (1986) : Adventure|Comedy|Sci-Fi\n",
      "Texas Chainsaw Massacre, The (1974) : Horror\n",
      "Crocodile Dundee (1986) : Adventure|Comedy\n",
      "¡Three Amigos! (1986) : Comedy|Western\n",
      "20 Dates (1998) : Comedy|Romance\n",
      "Office Space (1999) : Comedy|Crime\n",
      "Logan's Run (1976) : Action|Adventure|Sci-Fi\n",
      "Planet of the Apes (1968) : Action|Drama|Sci-Fi\n",
      "Lock, Stock & Two Smoking Barrels (1998) : Comedy|Crime|Thriller\n"
     ]
    }
   ],
   "source": [
    "# This snippet of code is imported from problem 2, and will be used to compare results for problem 3.\n",
    "rated_movies = {'userId': [999,999,999,999,999,999,999,999,999,999], 'movieId': [1,3114,8368,40815,40629,176101,135536,129779,122924,122912], 'rating': [4,4,4,4,5,4,3,3.5,4,5]}\n",
    "movies_watched_by_user = pd.DataFrame(rated_movies)\n",
    "recommender_2(movies_watched_by_user)"
   ]
  },
  {
   "cell_type": "markdown",
   "id": "328b289e",
   "metadata": {},
   "source": [
    "# 4. Compare the quality of the recommendations from experiment (2) with those of the new network of experiment (3). Does the recommendation performance improve for the members of your team?"
   ]
  },
  {
   "cell_type": "markdown",
   "id": "4320162f",
   "metadata": {},
   "source": [
    "## A: The recommendations from experiment 2 shows Drama movies as the top 10 recommedations, and for the user, 8 movies watched by the user is Drama. For experiment 3, two recommendation models are created by using the Dense layer network, and there are some issues regarding about the performance. For the first one, the movies that the user watched are Action movies, while the second one contains watched movies with Adventure and Fantasy genres as the most common. The top 10 recommendations for both models contain Thriller as the most recurring genre, in which although this can be said true for the 3 movies that the user has watched, none of those can be applied to the movies that the user has watched for the second model. Thus, the recommendation performance has not yet improved."
   ]
  },
  {
   "cell_type": "markdown",
   "id": "60f92c7b",
   "metadata": {},
   "source": [
    "# 5. If you were disappointed by the results of experiments (3) and (4), your network may be suffering from the problem shown in Figure 2.11 on p. 79 of the textbook, where the hidden layers do a poor job mapping out-of-sample data points to reduced representations. This is exactly the problem addressed by variational autoencoders.\n",
    "# Use the Keras example Variational AutoEncoder to add an additional sampling layer to your network.\n",
    "## Note: although much of the code is specific to building a convolutional VAE, you will also need to customize the training process as shown in the example in order to implement the loss function of Equations 4.17 through 4.19 on p. 208 of the textbook.\n",
    "# Compare the performance of this network with those in experiments (1) and (3)."
   ]
  },
  {
   "cell_type": "code",
   "execution_count": 14,
   "id": "01efbb9a",
   "metadata": {},
   "outputs": [],
   "source": [
    "class Sampling(layers.Layer):\n",
    "    \"\"\"Uses (z_mean, z_log_var) to sample z, the vector encoding a digit.\"\"\"\n",
    "\n",
    "    def call(self, inputs):\n",
    "        z_mean, z_log_var = inputs\n",
    "        batch = tf.shape(z_mean)[0]\n",
    "        dim = tf.shape(z_mean)[1]\n",
    "        epsilon = tf.keras.backend.random_normal(shape=(batch, dim))\n",
    "        return z_mean + tf.exp(0.5 * z_log_var) * epsilon"
   ]
  },
  {
   "cell_type": "code",
   "execution_count": 15,
   "id": "bf29cd7e",
   "metadata": {},
   "outputs": [
    {
     "name": "stdout",
     "output_type": "stream",
     "text": [
      "Model: \"encoder\"\n",
      "__________________________________________________________________________________________________\n",
      " Layer (type)                   Output Shape         Param #     Connected to                     \n",
      "==================================================================================================\n",
      " input_2 (InputLayer)           [(None, 50, 610, 1)  0           []                               \n",
      "                                ]                                                                 \n",
      "                                                                                                  \n",
      " HiddenLayer (Dense)            (None, 50, 610, 200  400         ['input_2[0][0]']                \n",
      "                                )                                                                 \n",
      "                                                                                                  \n",
      " flatten_1 (Flatten)            (None, 6100000)      0           ['HiddenLayer[0][0]']            \n",
      "                                                                                                  \n",
      " OutputLayer (Dense)            (None, 1)            6100001     ['flatten_1[0][0]']              \n",
      "                                                                                                  \n",
      " z_mean (Dense)                 (None, 2)            4           ['OutputLayer[0][0]']            \n",
      "                                                                                                  \n",
      " z_log_var (Dense)              (None, 2)            4           ['OutputLayer[0][0]']            \n",
      "                                                                                                  \n",
      " sampling (Sampling)            (None, 2)            0           ['z_mean[0][0]',                 \n",
      "                                                                  'z_log_var[0][0]']              \n",
      "                                                                                                  \n",
      "==================================================================================================\n",
      "Total params: 6,100,409\n",
      "Trainable params: 6,100,409\n",
      "Non-trainable params: 0\n",
      "__________________________________________________________________________________________________\n"
     ]
    }
   ],
   "source": [
    "latent_dim = 2\n",
    "# Instead of modifying the existing model from Problem 1, build a new model with a Dense hidden layer.\n",
    "encoder_inputs = keras.Input(shape=(50, 610, 1))\n",
    "#encoder.add(tf.keras.Input(shape=(2,)))\n",
    "x = tf.keras.layers.Dense(200, activation=\"relu\", name=\"HiddenLayer\")(encoder_inputs)\n",
    "x = tf.keras.layers.Flatten()(x)\n",
    "x = tf.keras.layers.Dense(1, activation=\"sigmoid\", name=\"OutputLayer\")(x)\n",
    "z_mean = layers.Dense(latent_dim, name=\"z_mean\")(x)\n",
    "z_log_var = layers.Dense(latent_dim, name=\"z_log_var\")(x)\n",
    "z = Sampling()([z_mean, z_log_var])\n",
    "encoder = keras.Model(encoder_inputs, [z_mean, z_log_var, z], name=\"encoder\")\n",
    "encoder.summary()\n",
    "#encoder.compile(loss=tf.keras.losses.BinaryCrossentropy(), optimizer=keras.optimizers.Adam(lr=0.001))"
   ]
  },
  {
   "cell_type": "code",
   "execution_count": 16,
   "id": "d700f1e3",
   "metadata": {},
   "outputs": [
    {
     "name": "stdout",
     "output_type": "stream",
     "text": [
      "Model: \"decoder\"\n",
      "_________________________________________________________________\n",
      " Layer (type)                Output Shape              Param #   \n",
      "=================================================================\n",
      " input_3 (InputLayer)        [(None, 2)]               0         \n",
      "                                                                 \n",
      " dense (Dense)               (None, 6100000)           18300000  \n",
      "                                                                 \n",
      " reshape (Reshape)           (None, 50, 610, 200)      0         \n",
      "                                                                 \n",
      " OutputLayer (Dense)         (None, 50, 610, 200)      40200     \n",
      "                                                                 \n",
      "=================================================================\n",
      "Total params: 18,340,200\n",
      "Trainable params: 18,340,200\n",
      "Non-trainable params: 0\n",
      "_________________________________________________________________\n"
     ]
    }
   ],
   "source": [
    "latent_inputs = keras.Input(shape=(latent_dim,))\n",
    "x = layers.Dense(50 *610 *200, activation=\"sigmoid\")(latent_inputs)\n",
    "x = layers.Reshape((50, 610, 200))(x)\n",
    "decoder_outputs = tf.keras.layers.Dense(200, activation=\"relu\", name=\"OutputLayer\")(x)\n",
    "#decoder_outputs = layers.Dense(1, activation=\"sigmoid\", padding=\"same\")(x)\n",
    "decoder = keras.Model(latent_inputs, decoder_outputs, name=\"decoder\")\n",
    "decoder.summary()"
   ]
  },
  {
   "cell_type": "code",
   "execution_count": 17,
   "id": "b9b46533",
   "metadata": {},
   "outputs": [],
   "source": [
    "class VAE(keras.Model):\n",
    "    def __init__(self, encoder, decoder, **kwargs):\n",
    "        super(VAE, self).__init__(**kwargs)\n",
    "        self.encoder = encoder\n",
    "        self.decoder = decoder\n",
    "        self.total_loss_tracker = keras.metrics.Mean(name=\"total_loss\")\n",
    "        self.reconstruction_loss_tracker = keras.metrics.Mean(\n",
    "            name=\"reconstruction_loss\"\n",
    "        )\n",
    "        self.kl_loss_tracker = keras.metrics.Mean(name=\"kl_loss\")\n",
    "\n",
    "    @property\n",
    "    def metrics(self):\n",
    "        return [\n",
    "            self.total_loss_tracker,\n",
    "            self.reconstruction_loss_tracker,\n",
    "            self.kl_loss_tracker,\n",
    "        ]\n",
    "\n",
    "    def train_step(self, data):\n",
    "        with tf.GradientTape() as tape:\n",
    "            z_mean, z_log_var, z = self.encoder(data)\n",
    "            reconstruction = self.decoder(z)\n",
    "            reconstruction_loss = tf.reduce_mean(\n",
    "                tf.reduce_sum(\n",
    "                    keras.losses.binary_crossentropy(data, reconstruction), axis=(1, 2)\n",
    "                )\n",
    "            )\n",
    "            kl_loss = -0.5 * (1 + z_log_var - tf.square(z_mean) - tf.exp(z_log_var))\n",
    "            kl_loss = tf.reduce_mean(tf.reduce_sum(kl_loss, axis=1))\n",
    "            total_loss = reconstruction_loss + kl_loss\n",
    "        grads = tape.gradient(total_loss, self.trainable_weights)\n",
    "        self.optimizer.apply_gradients(zip(grads, self.trainable_weights))\n",
    "        self.total_loss_tracker.update_state(total_loss)\n",
    "        self.reconstruction_loss_tracker.update_state(reconstruction_loss)\n",
    "        self.kl_loss_tracker.update_state(kl_loss)\n",
    "        return {\n",
    "            \"loss\": self.total_loss_tracker.result(),\n",
    "            \"reconstruction_loss\": self.reconstruction_loss_tracker.result(),\n",
    "            \"kl_loss\": self.kl_loss_tracker.result(),\n",
    "        }"
   ]
  },
  {
   "cell_type": "code",
   "execution_count": 21,
   "id": "888ebd15",
   "metadata": {},
   "outputs": [
    {
     "name": "stdout",
     "output_type": "stream",
     "text": [
      "(90752, 2)\n",
      "(90752,)\n"
     ]
    }
   ],
   "source": [
    "print(x_train.shape)\n",
    "print(y_train.shape)"
   ]
  },
  {
   "cell_type": "code",
   "execution_count": 21,
   "id": "e6eddb20",
   "metadata": {},
   "outputs": [
    {
     "name": "stdout",
     "output_type": "stream",
     "text": [
      "Epoch 1/30\n"
     ]
    },
    {
     "ename": "ValueError",
     "evalue": "in user code:\n\n    File \"C:\\ProgramData\\Anaconda3\\lib\\site-packages\\keras\\engine\\training.py\", line 1021, in train_function  *\n        return step_function(self, iterator)\n    File \"C:\\ProgramData\\Anaconda3\\lib\\site-packages\\keras\\engine\\training.py\", line 1010, in step_function  **\n        outputs = model.distribute_strategy.run(run_step, args=(data,))\n    File \"C:\\ProgramData\\Anaconda3\\lib\\site-packages\\keras\\engine\\training.py\", line 1000, in run_step  **\n        outputs = model.train_step(data)\n    File \"C:\\Users\\johnt\\AppData\\Local\\Temp/ipykernel_9396/3236315084.py\", line 22, in train_step\n        z_mean, z_log_var, z = self.encoder(data)\n    File \"C:\\ProgramData\\Anaconda3\\lib\\site-packages\\keras\\utils\\traceback_utils.py\", line 67, in error_handler\n        raise e.with_traceback(filtered_tb) from None\n    File \"C:\\ProgramData\\Anaconda3\\lib\\site-packages\\keras\\engine\\input_spec.py\", line 200, in assert_input_compatibility\n        raise ValueError(f'Layer \"{layer_name}\" expects {len(input_spec)} input(s),'\n\n    ValueError: Layer \"encoder\" expects 1 input(s), but it received 2 input tensors. Inputs received: [<tf.Tensor 'IteratorGetNext:0' shape=(128, 2) dtype=int64>, <tf.Tensor 'IteratorGetNext:1' shape=(128,) dtype=float32>]\n",
     "output_type": "error",
     "traceback": [
      "\u001b[1;31m---------------------------------------------------------------------------\u001b[0m",
      "\u001b[1;31mValueError\u001b[0m                                Traceback (most recent call last)",
      "Input \u001b[1;32mIn [21]\u001b[0m, in \u001b[0;36m<module>\u001b[1;34m\u001b[0m\n\u001b[0;32m      1\u001b[0m vae \u001b[38;5;241m=\u001b[39m VAE(encoder, decoder)\n\u001b[0;32m      2\u001b[0m vae\u001b[38;5;241m.\u001b[39mcompile(optimizer\u001b[38;5;241m=\u001b[39mkeras\u001b[38;5;241m.\u001b[39moptimizers\u001b[38;5;241m.\u001b[39mAdam())\n\u001b[1;32m----> 3\u001b[0m \u001b[43mvae\u001b[49m\u001b[38;5;241;43m.\u001b[39;49m\u001b[43mfit\u001b[49m\u001b[43m(\u001b[49m\u001b[43mx\u001b[49m\u001b[38;5;241;43m=\u001b[39;49m\u001b[43mx_train\u001b[49m\u001b[43m,\u001b[49m\u001b[43m \u001b[49m\u001b[43my\u001b[49m\u001b[38;5;241;43m=\u001b[39;49m\u001b[43my_train\u001b[49m\u001b[43m,\u001b[49m\u001b[43m \u001b[49m\u001b[43mepochs\u001b[49m\u001b[38;5;241;43m=\u001b[39;49m\u001b[38;5;241;43m30\u001b[39;49m\u001b[43m,\u001b[49m\u001b[43m \u001b[49m\u001b[43mbatch_size\u001b[49m\u001b[38;5;241;43m=\u001b[39;49m\u001b[38;5;241;43m128\u001b[39;49m\u001b[43m,\u001b[49m\u001b[43mvalidation_data\u001b[49m\u001b[38;5;241;43m=\u001b[39;49m\u001b[43m(\u001b[49m\u001b[43mx_val\u001b[49m\u001b[43m,\u001b[49m\u001b[43m \u001b[49m\u001b[43my_val\u001b[49m\u001b[43m)\u001b[49m\u001b[43m)\u001b[49m\n",
      "File \u001b[1;32mC:\\ProgramData\\Anaconda3\\lib\\site-packages\\keras\\utils\\traceback_utils.py:67\u001b[0m, in \u001b[0;36mfilter_traceback.<locals>.error_handler\u001b[1;34m(*args, **kwargs)\u001b[0m\n\u001b[0;32m     65\u001b[0m \u001b[38;5;28;01mexcept\u001b[39;00m \u001b[38;5;167;01mException\u001b[39;00m \u001b[38;5;28;01mas\u001b[39;00m e:  \u001b[38;5;66;03m# pylint: disable=broad-except\u001b[39;00m\n\u001b[0;32m     66\u001b[0m   filtered_tb \u001b[38;5;241m=\u001b[39m _process_traceback_frames(e\u001b[38;5;241m.\u001b[39m__traceback__)\n\u001b[1;32m---> 67\u001b[0m   \u001b[38;5;28;01mraise\u001b[39;00m e\u001b[38;5;241m.\u001b[39mwith_traceback(filtered_tb) \u001b[38;5;28;01mfrom\u001b[39;00m \u001b[38;5;28mNone\u001b[39m\n\u001b[0;32m     68\u001b[0m \u001b[38;5;28;01mfinally\u001b[39;00m:\n\u001b[0;32m     69\u001b[0m   \u001b[38;5;28;01mdel\u001b[39;00m filtered_tb\n",
      "File \u001b[1;32mC:\\ProgramData\\Anaconda3\\lib\\site-packages\\tensorflow\\python\\framework\\func_graph.py:1147\u001b[0m, in \u001b[0;36mfunc_graph_from_py_func.<locals>.autograph_handler\u001b[1;34m(*args, **kwargs)\u001b[0m\n\u001b[0;32m   1145\u001b[0m \u001b[38;5;28;01mexcept\u001b[39;00m \u001b[38;5;167;01mException\u001b[39;00m \u001b[38;5;28;01mas\u001b[39;00m e:  \u001b[38;5;66;03m# pylint:disable=broad-except\u001b[39;00m\n\u001b[0;32m   1146\u001b[0m   \u001b[38;5;28;01mif\u001b[39;00m \u001b[38;5;28mhasattr\u001b[39m(e, \u001b[38;5;124m\"\u001b[39m\u001b[38;5;124mag_error_metadata\u001b[39m\u001b[38;5;124m\"\u001b[39m):\n\u001b[1;32m-> 1147\u001b[0m     \u001b[38;5;28;01mraise\u001b[39;00m e\u001b[38;5;241m.\u001b[39mag_error_metadata\u001b[38;5;241m.\u001b[39mto_exception(e)\n\u001b[0;32m   1148\u001b[0m   \u001b[38;5;28;01melse\u001b[39;00m:\n\u001b[0;32m   1149\u001b[0m     \u001b[38;5;28;01mraise\u001b[39;00m\n",
      "\u001b[1;31mValueError\u001b[0m: in user code:\n\n    File \"C:\\ProgramData\\Anaconda3\\lib\\site-packages\\keras\\engine\\training.py\", line 1021, in train_function  *\n        return step_function(self, iterator)\n    File \"C:\\ProgramData\\Anaconda3\\lib\\site-packages\\keras\\engine\\training.py\", line 1010, in step_function  **\n        outputs = model.distribute_strategy.run(run_step, args=(data,))\n    File \"C:\\ProgramData\\Anaconda3\\lib\\site-packages\\keras\\engine\\training.py\", line 1000, in run_step  **\n        outputs = model.train_step(data)\n    File \"C:\\Users\\johnt\\AppData\\Local\\Temp/ipykernel_9396/3236315084.py\", line 22, in train_step\n        z_mean, z_log_var, z = self.encoder(data)\n    File \"C:\\ProgramData\\Anaconda3\\lib\\site-packages\\keras\\utils\\traceback_utils.py\", line 67, in error_handler\n        raise e.with_traceback(filtered_tb) from None\n    File \"C:\\ProgramData\\Anaconda3\\lib\\site-packages\\keras\\engine\\input_spec.py\", line 200, in assert_input_compatibility\n        raise ValueError(f'Layer \"{layer_name}\" expects {len(input_spec)} input(s),'\n\n    ValueError: Layer \"encoder\" expects 1 input(s), but it received 2 input tensors. Inputs received: [<tf.Tensor 'IteratorGetNext:0' shape=(128, 2) dtype=int64>, <tf.Tensor 'IteratorGetNext:1' shape=(128,) dtype=float32>]\n"
     ]
    }
   ],
   "source": [
    "vae = VAE(encoder, decoder)\n",
    "vae.compile(optimizer=keras.optimizers.Adam())\n",
    "vae.fit(x=x_train, y=y_train, epochs=30, batch_size=128,validation_data=(x_val, y_val))"
   ]
  },
  {
   "cell_type": "code",
   "execution_count": null,
   "id": "905cf1cd",
   "metadata": {},
   "outputs": [],
   "source": [
    "user_id = df.userId.sample(1).iloc[0]\n",
    "movies_watched_by_user = df[df.userId == user_id]\n",
    "#print(movies_watched_by_user)\n",
    "\n",
    "def recommender_3(movies_watched_by_user):\n",
    "    movies_not_watched = movie_df[\n",
    "        ~movie_df[\"movieId\"].isin(movies_watched_by_user.movieId.values)\n",
    "    ][\"movieId\"]\n",
    "    movies_not_watched = list(\n",
    "        set(movies_not_watched).intersection(set(movie2movie_encoded.keys()))\n",
    "    )\n",
    "    movies_not_watched = [[movie2movie_encoded.get(x)] for x in movies_not_watched]\n",
    "\n",
    "    user_encoder = user2user_encoded.get(user_id)\n",
    "    user_movie_array = np.hstack(\n",
    "        ([[user_encoder]] * len(movies_not_watched), movies_not_watched)\n",
    "    )\n",
    "    ratings = vae.predict(user_movie_array).flatten()\n",
    "    top_ratings_indices = ratings.argsort()[-10:][::-1]\n",
    "    recommended_movie_ids = [\n",
    "        movie_encoded2movie.get(movies_not_watched[x][0]) for x in top_ratings_indices\n",
    "    ]\n",
    "\n",
    "    print(\"Showing recommendations for user: {}\".format(user_id))\n",
    "    print(\"====\" * 9)\n",
    "    print(\"Movies with high ratings from user\")\n",
    "    print(\"----\" * 8)\n",
    "    top_movies_user = (\n",
    "        movies_watched_by_user.sort_values(by=\"rating\", ascending=False)\n",
    "        .head(5)\n",
    "        .movieId.values\n",
    "    )\n",
    "    movie_df_rows = movie_df[movie_df[\"movieId\"].isin(top_movies_user)]\n",
    "    for row in movie_df_rows.itertuples():\n",
    "        print(row.title, \":\", row.genres)\n",
    "\n",
    "    print(\"----\" * 8)\n",
    "    print(\"Top 10 movie recommendations\")\n",
    "    print(\"----\" * 8)\n",
    "    recommended_movies = movie_df[movie_df[\"movieId\"].isin(recommended_movie_ids)]\n",
    "    for row in recommended_movies.itertuples():\n",
    "        print(row.title, \":\", row.genres)\n",
    "recommender_3(movies_watched_by_user)"
   ]
  },
  {
   "cell_type": "code",
   "execution_count": null,
   "id": "d558960b",
   "metadata": {},
   "outputs": [],
   "source": [
    "rated_movies = {'userId': [999,999,999,999,999,999,999,999,999,999], 'movieId': [1,3114,8368,40815,40629,176101,135536,129779,122924,122912], 'rating': [4,4,4,4,5,4,3,3.5,4,5]}\n",
    "movies_watched_by_user = pd.DataFrame(rated_movies)\n",
    "recommender_3(movies_watched_by_user)"
   ]
  }
 ],
 "metadata": {
  "kernelspec": {
   "display_name": "Python 3 (ipykernel)",
   "language": "python",
   "name": "python3"
  },
  "language_info": {
   "codemirror_mode": {
    "name": "ipython",
    "version": 3
   },
   "file_extension": ".py",
   "mimetype": "text/x-python",
   "name": "python",
   "nbconvert_exporter": "python",
   "pygments_lexer": "ipython3",
   "version": "3.9.7"
  }
 },
 "nbformat": 4,
 "nbformat_minor": 5
}
