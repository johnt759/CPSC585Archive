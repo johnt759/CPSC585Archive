{
  "nbformat": 4,
  "nbformat_minor": 0,
  "metadata": {
    "colab": {
      "name": "Project5.ipynb",
      "provenance": [],
      "collapsed_sections": []
    },
    "kernelspec": {
      "name": "python3",
      "display_name": "Python 3"
    },
    "language_info": {
      "name": "python"
    }
  },
  "cells": [
    {
      "cell_type": "markdown",
      "metadata": {
        "id": "hmSTcGw2lmqB"
      },
      "source": [
        "# Spring 2022\n",
        "# CPSC 585 Project 5\n",
        "## Raymond Carpio\n",
        "## Yu Pan\n",
        "## Sijie Shang\n",
        "## John Tu"
      ]
    },
    {
      "cell_type": "markdown",
      "source": [
        "#1. Begin with the Keras example Collaborative Filtering for Movie Recommendations and verify that you can obtain the sample examples.\n",
        "This example uses the Keras Embedding layer type. While it may not be clear from the documentation, this layer type can be used to build an autoencoder. For example, to build the basic autoencoder of Figure 2.7 on p. 73 of the textbook, you could stack together an Embedding layer with input_dim 5 and output_dim 3 with another Embedding layer with input_dim 3 and output_dim 5.\n",
        "\n",
        "While this could obviously be done instead using a single Dense hidden layer, the difference is that Embedding layers work well with sparse data (e.g. where users have not rated most movies in the dataset.)\n",
        "\n",
        "As a result, the model corresponds roughly to the matrix factorization shown in Figure 2.13 on p. 84 of the textbook, using the dot product to compute the similarity of the user and movie vectors.\n"
      ],
      "metadata": {
        "id": "LPA5nvQIPWcK"
      }
    },
    {
      "cell_type": "code",
      "source": [
        "import pandas as pd\n",
        "import numpy as np\n",
        "from zipfile import ZipFile\n",
        "import tensorflow as tf\n",
        "from tensorflow import keras\n",
        "from tensorflow.keras import layers\n",
        "from pathlib import Path\n",
        "import matplotlib.pyplot as plt"
      ],
      "metadata": {
        "id": "T6eUQ0tNprcH"
      },
      "execution_count": null,
      "outputs": []
    },
    {
      "cell_type": "code",
      "source": [
        "# Download the actual data from http://files.grouplens.org/datasets/movielens/ml-latest-small.zip\"\n",
        "# Use the ratings.csv file\n",
        "movielens_data_file_url = (\n",
        "    \"http://files.grouplens.org/datasets/movielens/ml-latest-small.zip\"\n",
        ")\n",
        "movielens_zipped_file = keras.utils.get_file(\n",
        "    \"ml-latest-small.zip\", movielens_data_file_url, extract=False\n",
        ")\n",
        "keras_datasets_path = Path(movielens_zipped_file).parents[0]\n",
        "movielens_dir = keras_datasets_path / \"ml-latest-small\"\n",
        "\n",
        "# Only extract the data the first time the script is run.\n",
        "if not movielens_dir.exists():\n",
        "    with ZipFile(movielens_zipped_file, \"r\") as zip:\n",
        "        # Extract files\n",
        "        print(\"Extracting all the files now...\")\n",
        "        zip.extractall(path=keras_datasets_path)\n",
        "        print(\"Done!\")\n",
        "\n",
        "ratings_file = movielens_dir / \"ratings.csv\"\n",
        "df = pd.read_csv(ratings_file)"
      ],
      "metadata": {
        "id": "CmKJhyYJpsWe",
        "colab": {
          "base_uri": "https://localhost:8080/"
        },
        "outputId": "4a2cc063-5b44-42ea-a33c-c146fccdc6a2"
      },
      "execution_count": null,
      "outputs": [
        {
          "output_type": "stream",
          "name": "stdout",
          "text": [
            "Downloading data from http://files.grouplens.org/datasets/movielens/ml-latest-small.zip\n",
            "983040/978202 [==============================] - 0s 0us/step\n",
            "991232/978202 [==============================] - 0s 0us/step\n",
            "Extracting all the files now...\n",
            "Done!\n"
          ]
        }
      ]
    },
    {
      "cell_type": "code",
      "source": [
        "user_ids = df[\"userId\"].unique().tolist()\n",
        "user2user_encoded = {x: i for i, x in enumerate(user_ids)}\n",
        "userencoded2user = {i: x for i, x in enumerate(user_ids)}\n",
        "movie_ids = df[\"movieId\"].unique().tolist()\n",
        "movie2movie_encoded = {x: i for i, x in enumerate(movie_ids)}\n",
        "movie_encoded2movie = {i: x for i, x in enumerate(movie_ids)}\n",
        "df[\"user\"] = df[\"userId\"].map(user2user_encoded)\n",
        "df[\"movie\"] = df[\"movieId\"].map(movie2movie_encoded)\n",
        "\n",
        "num_users = len(user2user_encoded)\n",
        "num_movies = len(movie_encoded2movie)\n",
        "df[\"rating\"] = df[\"rating\"].values.astype(np.float32)\n",
        "# min and max ratings will be used to normalize the ratings later\n",
        "min_rating = min(df[\"rating\"])\n",
        "max_rating = max(df[\"rating\"])\n",
        "\n",
        "print(\n",
        "    \"Number of users: {}, Number of Movies: {}, Min rating: {}, Max rating: {}\".format(\n",
        "        num_users, num_movies, min_rating, max_rating\n",
        "    )\n",
        ")"
      ],
      "metadata": {
        "colab": {
          "base_uri": "https://localhost:8080/"
        },
        "id": "Ri5xadK0ptWv",
        "outputId": "5fc33d9f-a803-463c-87fa-e0e139bbfa99"
      },
      "execution_count": null,
      "outputs": [
        {
          "output_type": "stream",
          "name": "stdout",
          "text": [
            "Number of users: 610, Number of Movies: 9724, Min rating: 0.5, Max rating: 5.0\n"
          ]
        }
      ]
    },
    {
      "cell_type": "code",
      "source": [
        "df = df.sample(frac=1, random_state=42)\n",
        "x = df[[\"user\", \"movie\"]].values\n",
        "# Normalize the targets between 0 and 1. Makes it easy to train.\n",
        "y = df[\"rating\"].apply(lambda x: (x - min_rating) / (max_rating - min_rating)).values\n",
        "# Assuming training on 90% of the data and validating on 10%.\n",
        "train_indices = int(0.9 * df.shape[0])\n",
        "x_train, x_val, y_train, y_val = (\n",
        "    x[:train_indices],\n",
        "    x[train_indices:],\n",
        "    y[:train_indices],\n",
        "    y[train_indices:],\n",
        ")"
      ],
      "metadata": {
        "id": "kM6_rOCppuJl"
      },
      "execution_count": null,
      "outputs": []
    },
    {
      "cell_type": "code",
      "source": [
        "EMBEDDING_SIZE = 50\n",
        "\n",
        "\n",
        "class RecommenderNet(keras.Model):\n",
        "    def __init__(self, num_users, num_movies, embedding_size, **kwargs):\n",
        "        super(RecommenderNet, self).__init__(**kwargs)\n",
        "        self.num_users = num_users\n",
        "        self.num_movies = num_movies\n",
        "        self.embedding_size = embedding_size\n",
        "        self.user_embedding = layers.Embedding(\n",
        "            num_users,\n",
        "            embedding_size,\n",
        "            embeddings_initializer=\"he_normal\",\n",
        "            embeddings_regularizer=keras.regularizers.l2(1e-6),\n",
        "        )\n",
        "        self.user_bias = layers.Embedding(num_users, 1)\n",
        "        self.movie_embedding = layers.Embedding(\n",
        "            num_movies,\n",
        "            embedding_size,\n",
        "            embeddings_initializer=\"he_normal\",\n",
        "            embeddings_regularizer=keras.regularizers.l2(1e-6),\n",
        "        )\n",
        "        self.movie_bias = layers.Embedding(num_movies, 1)\n",
        "\n",
        "    def call(self, inputs):\n",
        "        user_vector = self.user_embedding(inputs[:, 0])\n",
        "        user_bias = self.user_bias(inputs[:, 0])\n",
        "        movie_vector = self.movie_embedding(inputs[:, 1])\n",
        "        movie_bias = self.movie_bias(inputs[:, 1])\n",
        "        dot_user_movie = tf.tensordot(user_vector, movie_vector, 2)\n",
        "        # Add all the components (including bias)\n",
        "        x = dot_user_movie + user_bias + movie_bias\n",
        "        # The sigmoid activation forces the rating to between 0 and 1\n",
        "        return tf.nn.sigmoid(x)\n",
        "\n",
        "\n",
        "model = RecommenderNet(num_users, num_movies, EMBEDDING_SIZE)\n",
        "model.compile(\n",
        "    loss=tf.keras.losses.BinaryCrossentropy(), optimizer=keras.optimizers.Adam(lr=0.001)\n",
        ")"
      ],
      "metadata": {
        "colab": {
          "base_uri": "https://localhost:8080/"
        },
        "id": "CONEwKA7pu49",
        "outputId": "63ebd687-91a0-4c66-a473-9085d53426bd"
      },
      "execution_count": null,
      "outputs": [
        {
          "output_type": "stream",
          "name": "stderr",
          "text": [
            "/usr/local/lib/python3.7/dist-packages/keras/optimizer_v2/adam.py:105: UserWarning: The `lr` argument is deprecated, use `learning_rate` instead.\n",
            "  super(Adam, self).__init__(name, **kwargs)\n"
          ]
        }
      ]
    },
    {
      "cell_type": "code",
      "source": [
        "history = model.fit(\n",
        "    x=x_train,\n",
        "    y=y_train,\n",
        "    batch_size=64,\n",
        "    epochs=5,\n",
        "    verbose=1,\n",
        "    validation_data=(x_val, y_val),\n",
        ")\n",
        "model.summary()"
      ],
      "metadata": {
        "colab": {
          "base_uri": "https://localhost:8080/"
        },
        "id": "BhWZJcg6pv8l",
        "outputId": "4725a36b-488c-4e95-d569-04c2e7fa756c"
      },
      "execution_count": null,
      "outputs": [
        {
          "output_type": "stream",
          "name": "stdout",
          "text": [
            "Epoch 1/5\n",
            "1418/1418 [==============================] - 19s 12ms/step - loss: 0.6355 - val_loss: 0.6207\n",
            "Epoch 2/5\n",
            "1418/1418 [==============================] - 19s 14ms/step - loss: 0.6134 - val_loss: 0.6163\n",
            "Epoch 3/5\n",
            "1418/1418 [==============================] - 19s 13ms/step - loss: 0.6084 - val_loss: 0.6163\n",
            "Epoch 4/5\n",
            "1418/1418 [==============================] - 16s 11ms/step - loss: 0.6080 - val_loss: 0.6142\n",
            "Epoch 5/5\n",
            "1418/1418 [==============================] - 9s 6ms/step - loss: 0.6080 - val_loss: 0.6137\n",
            "Model: \"recommender_net\"\n",
            "_________________________________________________________________\n",
            " Layer (type)                Output Shape              Param #   \n",
            "=================================================================\n",
            " embedding (Embedding)       multiple                  30500     \n",
            "                                                                 \n",
            " embedding_1 (Embedding)     multiple                  610       \n",
            "                                                                 \n",
            " embedding_2 (Embedding)     multiple                  486200    \n",
            "                                                                 \n",
            " embedding_3 (Embedding)     multiple                  9724      \n",
            "                                                                 \n",
            "=================================================================\n",
            "Total params: 527,034\n",
            "Trainable params: 527,034\n",
            "Non-trainable params: 0\n",
            "_________________________________________________________________\n"
          ]
        }
      ]
    },
    {
      "cell_type": "code",
      "source": [
        "plt.plot(history.history[\"loss\"])\n",
        "plt.plot(history.history[\"val_loss\"])\n",
        "plt.title(\"model loss\")\n",
        "plt.ylabel(\"loss\")\n",
        "plt.xlabel(\"epoch\")\n",
        "plt.legend([\"train\", \"test\"], loc=\"upper left\")\n",
        "plt.show()"
      ],
      "metadata": {
        "colab": {
          "base_uri": "https://localhost:8080/",
          "height": 295
        },
        "id": "6zie98wipwvA",
        "outputId": "cc6c6816-71ef-4088-f9f9-4e9491254498"
      },
      "execution_count": null,
      "outputs": [
        {
          "output_type": "display_data",
          "data": {
            "text/plain": [
              "<Figure size 432x288 with 1 Axes>"
            ],
            "image/png": "[encoded data removed]"
          },
          "metadata": {
            "needs_background": "light"
          }
        }
      ]
    },
    {
      "cell_type": "code",
      "source": [
        "movie_df = pd.read_csv(movielens_dir / \"movies.csv\")\n",
        "\n",
        "# Let us get a user and see the top recommendations.\n",
        "user_id = df.userId.sample(1).iloc[0]\n",
        "movies_watched_by_user = df[df.userId == user_id]\n",
        "#print(movies_watched_by_user)\n",
        "\n",
        "def recommender_1(movies_watched_by_user):\n",
        "    movies_not_watched = movie_df[\n",
        "        ~movie_df[\"movieId\"].isin(movies_watched_by_user.movieId.values)\n",
        "    ][\"movieId\"]\n",
        "    movies_not_watched = list(\n",
        "        set(movies_not_watched).intersection(set(movie2movie_encoded.keys()))\n",
        "    )\n",
        "    movies_not_watched = [[movie2movie_encoded.get(x)] for x in movies_not_watched]\n",
        "\n",
        "    user_encoder = user2user_encoded.get(user_id)\n",
        "    user_movie_array = np.hstack(\n",
        "        ([[user_encoder]] * len(movies_not_watched), movies_not_watched)\n",
        "    )\n",
        "    ratings = model.predict(user_movie_array).flatten()\n",
        "    top_ratings_indices = ratings.argsort()[-10:][::-1]\n",
        "    recommended_movie_ids = [\n",
        "        movie_encoded2movie.get(movies_not_watched[x][0]) for x in top_ratings_indices\n",
        "    ]\n",
        "\n",
        "    print(\"Showing recommendations for user: {}\".format(user_id))\n",
        "    print(\"====\" * 9)\n",
        "    print(\"Movies with high ratings from user\")\n",
        "    print(\"----\" * 8)\n",
        "    top_movies_user = (\n",
        "        movies_watched_by_user.sort_values(by=\"rating\", ascending=False)\n",
        "        .head(5)\n",
        "        .movieId.values\n",
        "    )\n",
        "    movie_df_rows = movie_df[movie_df[\"movieId\"].isin(top_movies_user)]\n",
        "    for row in movie_df_rows.itertuples():\n",
        "        print(row.title, \":\", row.genres)\n",
        "\n",
        "    print(\"----\" * 8)\n",
        "    print(\"Top 10 movie recommendations\")\n",
        "    print(\"----\" * 8)\n",
        "    recommended_movies = movie_df[movie_df[\"movieId\"].isin(recommended_movie_ids)]\n",
        "    for row in recommended_movies.itertuples():\n",
        "        print(row.title, \":\", row.genres)\n",
        "recommender_1(movies_watched_by_user)"
      ],
      "metadata": {
        "colab": {
          "base_uri": "https://localhost:8080/"
        },
        "id": "vyO0Dxb4pwzu",
        "outputId": "aec2a55d-0e88-4682-9222-7ab64a3fb28f"
      },
      "execution_count": null,
      "outputs": [
        {
          "output_type": "stream",
          "name": "stdout",
          "text": [
            "Showing recommendations for user: 212\n",
            "====================================\n",
            "Movies with high ratings from user\n",
            "--------------------------------\n",
            "Fight Club (1999) : Action|Crime|Drama|Thriller\n",
            "Moonrise Kingdom (2012) : Comedy|Drama|Romance\n",
            "Gifted (2017) : Drama\n",
            "Three Billboards Outside Ebbing, Missouri (2017) : Crime|Drama\n",
            "Isle of Dogs (2018) : Animation|Comedy\n",
            "--------------------------------\n",
            "Top 10 movie recommendations\n",
            "--------------------------------\n",
            "Rear Window (1954) : Mystery|Thriller\n",
            "One Flew Over the Cuckoo's Nest (1975) : Drama\n",
            "Princess Bride, The (1987) : Action|Adventure|Comedy|Fantasy|Romance\n",
            "Lawrence of Arabia (1962) : Adventure|Drama|War\n",
            "Apocalypse Now (1979) : Action|Drama|War\n",
            "Goodfellas (1990) : Crime|Drama\n",
            "Godfather: Part II, The (1974) : Crime|Drama\n",
            "Full Metal Jacket (1987) : Drama|War\n",
            "Amadeus (1984) : Drama\n",
            "Cool Hand Luke (1967) : Drama\n"
          ]
        }
      ]
    },
    {
      "cell_type": "markdown",
      "source": [
        "#2. Construct a feature vector for one or more members of your team, choosing and rating several movies that they have seen. (Do not rate all movies that they have seen — leave room for recommendations.)\n",
        "#What other movies does the network recommend? How many of the recommended movies have they actually seen? Were the recommendations accurate?\n"
      ],
      "metadata": {
        "id": "ZAETRGnfPZwc"
      }
    },
    {
      "cell_type": "markdown",
      "source": [
        "![image.png](data:image/png;base64,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)"
      ],
      "metadata": {
        "id": "UOQEKnibBlI7"
      }
    },
    {
      "cell_type": "code",
      "source": [
        "rated_movies = {'userId': [999,999,999,999,999,999,999,999,999,999], 'movieId': [1,3114,8368,40815,40629,176101,135536,129779,122924,122912], 'rating': [4,4,4,4,5,4,3,3.5,4,5]}\n",
        "movies_watched_by_user = pd.DataFrame(rated_movies)\n",
        "recommender_1(movies_watched_by_user)"
      ],
      "metadata": {
        "id": "ST6g1zcjuBsU",
        "colab": {
          "base_uri": "https://localhost:8080/"
        },
        "outputId": "787b422b-0b6f-4646-b400-99d07c39f41d"
      },
      "execution_count": null,
      "outputs": [
        {
          "output_type": "stream",
          "name": "stdout",
          "text": [
            "Showing recommendations for user: 212\n",
            "====================================\n",
            "Movies with high ratings from user\n",
            "--------------------------------\n",
            "Toy Story (1995) : Adventure|Animation|Children|Comedy|Fantasy\n",
            "Toy Story 2 (1999) : Adventure|Animation|Children|Comedy|Fantasy\n",
            "Harry Potter and the Prisoner of Azkaban (2004) : Adventure|Fantasy|IMAX\n",
            "Pride & Prejudice (2005) : Drama|Romance\n",
            "Avengers: Infinity War - Part I (2018) : Action|Adventure|Sci-Fi\n",
            "--------------------------------\n",
            "Top 10 movie recommendations\n",
            "--------------------------------\n",
            "Pulp Fiction (1994) : Comedy|Crime|Drama|Thriller\n",
            "Shawshank Redemption, The (1994) : Crime|Drama\n",
            "Rear Window (1954) : Mystery|Thriller\n",
            "One Flew Over the Cuckoo's Nest (1975) : Drama\n",
            "Star Wars: Episode V - The Empire Strikes Back (1980) : Action|Adventure|Sci-Fi\n",
            "Princess Bride, The (1987) : Action|Adventure|Comedy|Fantasy|Romance\n",
            "Raiders of the Lost Ark (Indiana Jones and the Raiders of the Lost Ark) (1981) : Action|Adventure\n",
            "Goodfellas (1990) : Crime|Drama\n",
            "Godfather: Part II, The (1974) : Crime|Drama\n",
            "Cool Hand Luke (1967) : Drama\n"
          ]
        }
      ]
    },
    {
      "cell_type": "markdown",
      "source": [
        "## A: Based on the user's watch history, the genres that are relevant in the recommendations list are Adventure and Fantasy. Thus, the recommendations are not as accurate as they appear since the most common genres that appear are Crime and Drama."
      ],
      "metadata": {
        "id": "PAiUEtfPt5oa"
      }
    },
    {
      "cell_type": "markdown",
      "source": [
        "#3. While the matrix factorization model described in the textbook relies on only a single dense hidden layer (or equivalently, two hidden embedding layers), it should be possible to achieve better results with a deeper network.\n",
        "#Replace the dot product with one or more dense layers, allowing the network to learn relationships between the user and movie vectors. Compare the performance of the network on the training and validation sets.\n"
      ],
      "metadata": {
        "id": "TFTHYJZPPlD9"
      }
    },
    {
      "cell_type": "code",
      "source": [
        "# Instead of modifying the existing model from Problem 1, build a new model with a Dense hidden layer.\n",
        "model2 = tf.keras.Sequential()\n",
        "model2.add(tf.keras.Input(shape=(2,)))\n",
        "model2.add(tf.keras.layers.Dense(200, activation=\"relu\", name=\"HiddenLayer\"))\n",
        "model2.add(tf.keras.layers.Flatten())\n",
        "model2.add(tf.keras.layers.Dense(1, activation=\"sigmoid\", name=\"OutputLayer\"))\n",
        "\n",
        "model2.summary()\n",
        "model2.compile(loss=tf.keras.losses.BinaryCrossentropy(), optimizer=keras.optimizers.Adam(lr=0.001))"
      ],
      "metadata": {
        "colab": {
          "base_uri": "https://localhost:8080/"
        },
        "id": "SLfXuEHvz69x",
        "outputId": "917c9812-3c76-45cd-d5b0-633451d8bfb8"
      },
      "execution_count": null,
      "outputs": [
        {
          "output_type": "stream",
          "name": "stdout",
          "text": [
            "Model: \"sequential\"\n",
            "_________________________________________________________________\n",
            " Layer (type)                Output Shape              Param #   \n",
            "=================================================================\n",
            " HiddenLayer (Dense)         (None, 200)               600       \n",
            "                                                                 \n",
            " flatten (Flatten)           (None, 200)               0         \n",
            "                                                                 \n",
            " OutputLayer (Dense)         (None, 1)                 201       \n",
            "                                                                 \n",
            "=================================================================\n",
            "Total params: 801\n",
            "Trainable params: 801\n",
            "Non-trainable params: 0\n",
            "_________________________________________________________________\n"
          ]
        },
        {
          "output_type": "stream",
          "name": "stderr",
          "text": [
            "/usr/local/lib/python3.7/dist-packages/keras/optimizer_v2/adam.py:105: UserWarning: The `lr` argument is deprecated, use `learning_rate` instead.\n",
            "  super(Adam, self).__init__(name, **kwargs)\n"
          ]
        }
      ]
    },
    {
      "cell_type": "code",
      "source": [
        "history = model2.fit(\n",
        "    x=x_train,\n",
        "    y=y_train,\n",
        "    batch_size=64,\n",
        "    epochs=5,\n",
        "    verbose=1,\n",
        "    validation_data=(x_val, y_val),\n",
        ")"
      ],
      "metadata": {
        "colab": {
          "base_uri": "https://localhost:8080/"
        },
        "id": "bv71vPQp0YV3",
        "outputId": "adcb6e25-48b2-4981-a48d-7adfdd5804e0"
      },
      "execution_count": null,
      "outputs": [
        {
          "output_type": "stream",
          "name": "stdout",
          "text": [
            "Epoch 1/5\n",
            "1418/1418 [==============================] - 6s 3ms/step - loss: 1.5668 - val_loss: 0.6662\n",
            "Epoch 2/5\n",
            "1418/1418 [==============================] - 4s 3ms/step - loss: 1.3179 - val_loss: 0.8971\n",
            "Epoch 3/5\n",
            "1418/1418 [==============================] - 3s 2ms/step - loss: 1.3115 - val_loss: 0.6984\n",
            "Epoch 4/5\n",
            "1418/1418 [==============================] - 4s 3ms/step - loss: 1.1437 - val_loss: 0.6409\n",
            "Epoch 5/5\n",
            "1418/1418 [==============================] - 4s 3ms/step - loss: 1.1386 - val_loss: 0.6512\n"
          ]
        }
      ]
    },
    {
      "cell_type": "code",
      "source": [
        "plt.plot(history.history[\"loss\"])\n",
        "plt.plot(history.history[\"val_loss\"])\n",
        "plt.title(\"model loss\")\n",
        "plt.ylabel(\"loss\")\n",
        "plt.xlabel(\"epoch\")\n",
        "plt.legend([\"train\", \"test\"], loc=\"upper left\")\n",
        "plt.show()"
      ],
      "metadata": {
        "colab": {
          "base_uri": "https://localhost:8080/",
          "height": 295
        },
        "id": "JEGi_9eDmvq0",
        "outputId": "fb0a92b4-8026-4908-ff9f-62e5f5b0f390"
      },
      "execution_count": null,
      "outputs": [
        {
          "output_type": "display_data",
          "data": {
            "text/plain": [
              "<Figure size 432x288 with 1 Axes>"
            ],
            "image/png": "[encoded data removed]"
          },
          "metadata": {
            "needs_background": "light"
          }
        }
      ]
    },
    {
      "cell_type": "code",
      "source": [
        "# Follow the same procedure from Problem 1, except try a different user id.\n",
        "user_id = df.userId.sample(1).iloc[0]\n",
        "movies_watched_by_user = df[df.userId == user_id]\n",
        "#print(movies_watched_by_user)\n",
        "\n",
        "def recommender_2(movies_watched_by_user):\n",
        "    movies_not_watched = movie_df[\n",
        "        ~movie_df[\"movieId\"].isin(movies_watched_by_user.movieId.values)\n",
        "    ][\"movieId\"]\n",
        "    movies_not_watched = list(\n",
        "        set(movies_not_watched).intersection(set(movie2movie_encoded.keys()))\n",
        "    )\n",
        "    movies_not_watched = [[movie2movie_encoded.get(x)] for x in movies_not_watched]\n",
        "\n",
        "    user_encoder = user2user_encoded.get(user_id)\n",
        "    user_movie_array = np.hstack(\n",
        "        ([[user_encoder]] * len(movies_not_watched), movies_not_watched)\n",
        "    )\n",
        "    ratings = model2.predict(user_movie_array).flatten()\n",
        "    top_ratings_indices = ratings.argsort()[-10:][::-1]\n",
        "    recommended_movie_ids = [\n",
        "        movie_encoded2movie.get(movies_not_watched[x][0]) for x in top_ratings_indices\n",
        "    ]\n",
        "\n",
        "    print(\"Showing recommendations for user: {}\".format(user_id))\n",
        "    print(\"====\" * 9)\n",
        "    print(\"Movies with high ratings from user\")\n",
        "    print(\"----\" * 8)\n",
        "    top_movies_user = (\n",
        "        movies_watched_by_user.sort_values(by=\"rating\", ascending=False)\n",
        "        .head(5)\n",
        "        .movieId.values\n",
        "    )\n",
        "    movie_df_rows = movie_df[movie_df[\"movieId\"].isin(top_movies_user)]\n",
        "    for row in movie_df_rows.itertuples():\n",
        "        print(row.title, \":\", row.genres)\n",
        "\n",
        "    print(\"----\" * 8)\n",
        "    print(\"Top 10 movie recommendations\")\n",
        "    print(\"----\" * 8)\n",
        "    recommended_movies = movie_df[movie_df[\"movieId\"].isin(recommended_movie_ids)]\n",
        "    for row in recommended_movies.itertuples():\n",
        "        print(row.title, \":\", row.genres)\n",
        "recommender_2(movies_watched_by_user)"
      ],
      "metadata": {
        "colab": {
          "base_uri": "https://localhost:8080/"
        },
        "id": "5IlQGNheFw2W",
        "outputId": "cb1310e8-ab4a-4e1f-8bc1-07141ceebf48"
      },
      "execution_count": null,
      "outputs": [
        {
          "output_type": "stream",
          "name": "stdout",
          "text": [
            "Showing recommendations for user: 517\n",
            "====================================\n",
            "Movies with high ratings from user\n",
            "--------------------------------\n",
            "Four Weddings and a Funeral (1994) : Comedy|Romance\n",
            "101 Dalmatians (1996) : Adventure|Children|Comedy\n",
            "Gosford Park (2001) : Comedy|Drama|Mystery\n",
            "Polar Express, The (2004) : Adventure|Animation|Children|Fantasy|IMAX\n",
            "Up (2009) : Adventure|Animation|Children|Drama\n",
            "--------------------------------\n",
            "Top 10 movie recommendations\n",
            "--------------------------------\n",
            "Mummy, The (1999) : Action|Adventure|Comedy|Fantasy|Horror|Thriller\n",
            "Star Wars: Episode I - The Phantom Menace (1999) : Action|Adventure|Sci-Fi\n",
            "Superman (1978) : Action|Adventure|Sci-Fi\n",
            "Superman II (1980) : Action|Sci-Fi\n",
            "Dracula (1931) : Horror\n",
            "Frankenstein (1931) : Drama|Horror|Sci-Fi\n",
            "Wolf Man, The (1941) : Drama|Fantasy|Horror\n",
            "Rocky Horror Picture Show, The (1975) : Comedy|Horror|Musical|Sci-Fi\n",
            "Run Lola Run (Lola rennt) (1998) : Action|Crime\n",
            "South Park: Bigger, Longer and Uncut (1999) : Animation|Comedy|Musical\n"
          ]
        }
      ]
    },
    {
      "cell_type": "code",
      "source": [
        "# This snippet of code is imported from problem 2, and will be used to compare results for problem 3.\n",
        "rated_movies = {'userId': [999,999,999,999,999,999,999,999,999,999], 'movieId': [1,3114,8368,40815,40629,176101,135536,129779,122924,122912], 'rating': [4,4,4,4,5,4,3,3.5,4,5]}\n",
        "movies_watched_by_user = pd.DataFrame(rated_movies)\n",
        "recommender_2(movies_watched_by_user)"
      ],
      "metadata": {
        "colab": {
          "base_uri": "https://localhost:8080/"
        },
        "id": "C1bjMIX11o9U",
        "outputId": "62abf748-4acd-41ad-eaa4-10c5201ef021"
      },
      "execution_count": null,
      "outputs": [
        {
          "output_type": "stream",
          "name": "stdout",
          "text": [
            "Showing recommendations for user: 517\n",
            "====================================\n",
            "Movies with high ratings from user\n",
            "--------------------------------\n",
            "Toy Story (1995) : Adventure|Animation|Children|Comedy|Fantasy\n",
            "Toy Story 2 (1999) : Adventure|Animation|Children|Comedy|Fantasy\n",
            "Harry Potter and the Prisoner of Azkaban (2004) : Adventure|Fantasy|IMAX\n",
            "Pride & Prejudice (2005) : Drama|Romance\n",
            "Avengers: Infinity War - Part I (2018) : Action|Adventure|Sci-Fi\n",
            "--------------------------------\n",
            "Top 10 movie recommendations\n",
            "--------------------------------\n",
            "Star Wars: Episode I - The Phantom Menace (1999) : Action|Adventure|Sci-Fi\n",
            "Superman (1978) : Action|Adventure|Sci-Fi\n",
            "Superman II (1980) : Action|Sci-Fi\n",
            "Dracula (1931) : Horror\n",
            "Frankenstein (1931) : Drama|Horror|Sci-Fi\n",
            "Wolf Man, The (1941) : Drama|Fantasy|Horror\n",
            "Rocky Horror Picture Show, The (1975) : Comedy|Horror|Musical|Sci-Fi\n",
            "Run Lola Run (Lola rennt) (1998) : Action|Crime\n",
            "South Park: Bigger, Longer and Uncut (1999) : Animation|Comedy|Musical\n",
            "Ghostbusters (a.k.a. Ghost Busters) (1984) : Action|Comedy|Sci-Fi\n"
          ]
        }
      ]
    },
    {
      "cell_type": "markdown",
      "source": [
        "## Based on the training and validation loss obtained after the training step, the model with the Dense layer did much worse than the model from Experiment 1 as seen in the graph above, where the training loss never dropped below 1.0, and the validation loss did not indicate a clear pattern of convergence."
      ],
      "metadata": {
        "id": "TBTJZsUCl27H"
      }
    },
    {
      "cell_type": "markdown",
      "source": [
        "#4. Compare the quality of the recommendations from experiment (2) with those of the new network of experiment (3). Does the recommendation performance improve for the members of your team?\n"
      ],
      "metadata": {
        "id": "2LnYTfxbPyJ5"
      }
    },
    {
      "cell_type": "markdown",
      "source": [
        "## A: The recommendations from experiment 2 shows Crime and Drama movies as the top 10 recommedations, while 2 of the 5 movies watched by the user have Crime and Drama as their main genres. For experiment 3, the movies that the first user watched are primarily Comedy movies, and out of the 10 recommended movies, 3 of them have Comedy. For the second user, Adventure and Fantasy are their top genres, and the top 10 recommendations included only two Adventure movies and one Fantasy movie. Thus, based on the results obtained, the recommendation performance has not improved."
      ],
      "metadata": {
        "id": "v_GMzIj93YdJ"
      }
    },
    {
      "cell_type": "markdown",
      "source": [
        "#5. If you were disappointed by the results of experiments (3) and (4), your network may be suffering from the problem shown in Figure 2.11 on p. 79 of the textbook, where the hidden layers do a poor job mapping out-of-sample data points to reduced representations. This is exactly the problem addressed by variational autoencoders.\n",
        "#Use the Keras example Variational AutoEncoder to add an additional sampling layer to your network.\n",
        "Note: although much of the code is specific to building a convolutional VAE, you will also need to customize the training process as shown in the example in order to implement the loss function of Equations 4.17 through 4.19 on p. 208 of the textbook.\n",
        "#Compare the performance of this network with those in experiments (1) and (3).\n"
      ],
      "metadata": {
        "id": "XV0JNxC4P2KO"
      }
    },
    {
      "cell_type": "code",
      "source": [
        "class Sampling(layers.Layer):\n",
        "    \"\"\"Uses (z_mean, z_log_var) to sample z, the vector encoding a digit.\"\"\"\n",
        "\n",
        "    def call(self, inputs):\n",
        "        z_mean, z_log_var = inputs\n",
        "        batch = tf.shape(z_mean)[0]\n",
        "        dim = tf.shape(z_mean)[1]\n",
        "        epsilon = tf.keras.backend.random_normal(shape=(batch, dim))\n",
        "        return z_mean + tf.exp(0.5 * z_log_var) * epsilon"
      ],
      "metadata": {
        "id": "nJdQ3ieCfpP1"
      },
      "execution_count": null,
      "outputs": []
    },
    {
      "cell_type": "code",
      "source": [
        "latent_dim = 2\n",
        "# Instead of modifying the existing model from Problem 1, build a new model with a Dense hidden layer.\n",
        "encoder_inputs = keras.Input(shape=(50, 610, 1))\n",
        "#encoder.add(tf.keras.Input(shape=(2,)))\n",
        "x = tf.keras.layers.Dense(200, activation=\"relu\", name=\"HiddenLayer\")(encoder_inputs)\n",
        "x = tf.keras.layers.Flatten()(x)\n",
        "x = tf.keras.layers.Dense(1, activation=\"sigmoid\", name=\"OutputLayer\")(x)\n",
        "z_mean = layers.Dense(latent_dim, name=\"z_mean\")(x)\n",
        "z_log_var = layers.Dense(latent_dim, name=\"z_log_var\")(x)\n",
        "z = Sampling()([z_mean, z_log_var])\n",
        "encoder = keras.Model(encoder_inputs, [z_mean, z_log_var, z], name=\"encoder\")\n",
        "encoder.summary()\n",
        "#encoder.compile(loss=tf.keras.losses.BinaryCrossentropy(), optimizer=keras.optimizers.Adam(lr=0.001))"
      ],
      "metadata": {
        "id": "Nd8_YsefB3b3",
        "colab": {
          "base_uri": "https://localhost:8080/"
        },
        "outputId": "1482d3aa-3d98-4a89-ef01-fa5a23c15e17"
      },
      "execution_count": null,
      "outputs": [
        {
          "output_type": "stream",
          "name": "stdout",
          "text": [
            "Model: \"encoder\"\n",
            "__________________________________________________________________________________________________\n",
            " Layer (type)                   Output Shape         Param #     Connected to                     \n",
            "==================================================================================================\n",
            " input_2 (InputLayer)           [(None, 50, 610, 1)  0           []                               \n",
            "                                ]                                                                 \n",
            "                                                                                                  \n",
            " HiddenLayer (Dense)            (None, 50, 610, 200  400         ['input_2[0][0]']                \n",
            "                                )                                                                 \n",
            "                                                                                                  \n",
            " flatten_1 (Flatten)            (None, 6100000)      0           ['HiddenLayer[0][0]']            \n",
            "                                                                                                  \n",
            " OutputLayer (Dense)            (None, 1)            6100001     ['flatten_1[0][0]']              \n",
            "                                                                                                  \n",
            " z_mean (Dense)                 (None, 2)            4           ['OutputLayer[0][0]']            \n",
            "                                                                                                  \n",
            " z_log_var (Dense)              (None, 2)            4           ['OutputLayer[0][0]']            \n",
            "                                                                                                  \n",
            " sampling (Sampling)            (None, 2)            0           ['z_mean[0][0]',                 \n",
            "                                                                  'z_log_var[0][0]']              \n",
            "                                                                                                  \n",
            "==================================================================================================\n",
            "Total params: 6,100,409\n",
            "Trainable params: 6,100,409\n",
            "Non-trainable params: 0\n",
            "__________________________________________________________________________________________________\n"
          ]
        }
      ]
    },
    {
      "cell_type": "code",
      "source": [
        "latent_inputs = keras.Input(shape=(latent_dim,))\n",
        "x = layers.Dense(50 *610 *200, activation=\"sigmoid\")(latent_inputs)\n",
        "x = layers.Reshape((50, 610, 200))(x)\n",
        "decoder_outputs = tf.keras.layers.Dense(200, activation=\"relu\", name=\"OutputLayer\")(x)\n",
        "#decoder_outputs = layers.Dense(1, activation=\"sigmoid\", padding=\"same\")(x)\n",
        "decoder = keras.Model(latent_inputs, decoder_outputs, name=\"decoder\")\n",
        "decoder.summary()"
      ],
      "metadata": {
        "colab": {
          "base_uri": "https://localhost:8080/"
        },
        "id": "5DbwjscjbOah",
        "outputId": "7cc131dd-3f08-4072-fe2d-a872246fe4be"
      },
      "execution_count": null,
      "outputs": [
        {
          "output_type": "stream",
          "name": "stdout",
          "text": [
            "Model: \"decoder\"\n",
            "_________________________________________________________________\n",
            " Layer (type)                Output Shape              Param #   \n",
            "=================================================================\n",
            " input_3 (InputLayer)        [(None, 2)]               0         \n",
            "                                                                 \n",
            " dense (Dense)               (None, 6100000)           18300000  \n",
            "                                                                 \n",
            " reshape (Reshape)           (None, 50, 610, 200)      0         \n",
            "                                                                 \n",
            " OutputLayer (Dense)         (None, 50, 610, 200)      40200     \n",
            "                                                                 \n",
            "=================================================================\n",
            "Total params: 18,340,200\n",
            "Trainable params: 18,340,200\n",
            "Non-trainable params: 0\n",
            "_________________________________________________________________\n"
          ]
        }
      ]
    },
    {
      "cell_type": "code",
      "source": [
        "class VAE(keras.Model):\n",
        "    def __init__(self, encoder, decoder, **kwargs):\n",
        "        super(VAE, self).__init__(**kwargs)\n",
        "        self.encoder = encoder\n",
        "        self.decoder = decoder\n",
        "        self.total_loss_tracker = keras.metrics.Mean(name=\"total_loss\")\n",
        "        self.reconstruction_loss_tracker = keras.metrics.Mean(\n",
        "            name=\"reconstruction_loss\"\n",
        "        )\n",
        "        self.kl_loss_tracker = keras.metrics.Mean(name=\"kl_loss\")\n",
        "\n",
        "    @property\n",
        "    def metrics(self):\n",
        "        return [\n",
        "            self.total_loss_tracker,\n",
        "            self.reconstruction_loss_tracker,\n",
        "            self.kl_loss_tracker,\n",
        "        ]\n",
        "\n",
        "    def train_step(self, data):\n",
        "        with tf.GradientTape() as tape:\n",
        "            z_mean, z_log_var, z = self.encoder(data)\n",
        "            reconstruction = self.decoder(z)\n",
        "            reconstruction_loss = tf.reduce_mean(\n",
        "                tf.reduce_sum(\n",
        "                    keras.losses.binary_crossentropy(data, reconstruction), axis=(1, 2)\n",
        "                )\n",
        "            )\n",
        "            kl_loss = -0.5 * (1 + z_log_var - tf.square(z_mean) - tf.exp(z_log_var))\n",
        "            kl_loss = tf.reduce_mean(tf.reduce_sum(kl_loss, axis=1))\n",
        "            total_loss = reconstruction_loss + kl_loss\n",
        "        grads = tape.gradient(total_loss, self.trainable_weights)\n",
        "        self.optimizer.apply_gradients(zip(grads, self.trainable_weights))\n",
        "        self.total_loss_tracker.update_state(total_loss)\n",
        "        self.reconstruction_loss_tracker.update_state(reconstruction_loss)\n",
        "        self.kl_loss_tracker.update_state(kl_loss)\n",
        "        return {\n",
        "            \"loss\": self.total_loss_tracker.result(),\n",
        "            \"reconstruction_loss\": self.reconstruction_loss_tracker.result(),\n",
        "            \"kl_loss\": self.kl_loss_tracker.result(),\n",
        "        }"
      ],
      "metadata": {
        "id": "HgSmUCdtc_sp"
      },
      "execution_count": null,
      "outputs": []
    },
    {
      "cell_type": "code",
      "source": [
        "print(x_train.shape)\n",
        "print(y_train.shape)"
      ],
      "metadata": {
        "id": "yra6X3A4bRmO",
        "colab": {
          "base_uri": "https://localhost:8080/"
        },
        "outputId": "58b36413-1dd2-42f5-e6b9-0b2357a98170"
      },
      "execution_count": null,
      "outputs": [
        {
          "output_type": "stream",
          "name": "stdout",
          "text": [
            "(90752, 2)\n",
            "(90752,)\n"
          ]
        }
      ]
    },
    {
      "cell_type": "code",
      "source": [
        "vae = VAE(encoder, decoder)\n",
        "vae.compile(optimizer=keras.optimizers.Adam())\n",
        "#vae.fit(x_train, y_train, epochs=30, batch_size=128) # Do not uncomment, as the error will be thrown!"
      ],
      "metadata": {
        "id": "Vfpi-ZhOdCGX"
      },
      "execution_count": null,
      "outputs": []
    },
    {
      "cell_type": "markdown",
      "source": [
        "## Since we are unable to figure out how to implement the Variational Autoencoder model for the recommendation system, we are unable to proceed further past the training process."
      ],
      "metadata": {
        "id": "b7IogcDHtMNP"
      }
    },
    {
      "cell_type": "code",
      "source": [
        ""
      ],
      "metadata": {
        "id": "8tZtlpg6tTl5"
      },
      "execution_count": null,
      "outputs": []
    }
  ]
}